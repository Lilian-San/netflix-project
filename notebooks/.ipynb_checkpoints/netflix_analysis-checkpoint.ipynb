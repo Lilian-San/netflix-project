{
  "cells": [
    {
      "cell_type": "markdown",
      "metadata": {},
      "source": [
        "# Exploring Netflix Titles: Trends and Insights\n",
        "\n",
        "This notebook walks through loading, cleaning, exploring, and visualizing the **Netflix Titles** dataset."
      ]
    },
    {
      "cell_type": "code",
      "execution_count": null,
      "metadata": {},
      "outputs": [],
      "source": [
        "# Setup\n",
        "import pandas as pd\n",
        "import matplotlib.pyplot as plt\n",
        "\n",
        "pd.set_option('display.max_columns', None)\n",
        "print('Libraries loaded!')"
      ]
    },
    {
      "cell_type": "code",
      "execution_count": null,
      "metadata": {},
      "outputs": [],
      "source": [
        "# Load data\n",
        "PATH = '../data/netflix_titles.csv'  # adjust if needed\n",
        "df = pd.read_csv(PATH)\n",
        "df.head()"
      ]
    },
    {
      "cell_type": "code",
      "execution_count": null,
      "metadata": {},
      "outputs": [],
      "source": [
        "# Quick explore\n",
        "print(df.shape)\n",
        "df.isna().sum()"
      ]
    },
    {
      "cell_type": "code",
      "execution_count": null,
      "metadata": {},
      "outputs": [],
      "source": [
        "# Basic cleaning\n",
        "df.columns = df.columns.str.strip().str.lower().str.replace(' ', '_')\n",
        "df['date_added'] = pd.to_datetime(df['date_added'], errors='coerce')\n",
        "df['release_year'] = pd.to_numeric(df['release_year'], errors='coerce')\n",
        "df.head()"
      ]
    },
    {
      "cell_type": "markdown",
      "metadata": {},
      "source": [
        "## Questions"
      ]
    },
    {
      "cell_type": "code",
      "execution_count": null,
      "metadata": {},
      "outputs": [],
      "source": [
        "# 1) Movies vs TV Shows\n",
        "counts = df['type'].value_counts(dropna=False)\n",
        "ax = counts.plot(kind='bar', title='Movies vs TV Shows')\n",
        "plt.xlabel('Type'); plt.ylabel('Count')\n",
        "plt.tight_layout()\n",
        "plt.savefig('../images/movies_vs_tvshows.png', dpi=150)\n",
        "counts"
      ]
    },
    {
      "cell_type": "code",
      "execution_count": null,
      "metadata": {},
      "outputs": [],
      "source": [
        "# 2) Top genres (from `listed_in`)\n",
        "genres = (\n",
        "    df.assign(listed_in=df['listed_in'].fillna(''))\n",
        "      .assign(genre=df['listed_in'].str.split(', '))\n",
        "      .explode('genre')\n",
        "      .query(\"genre != ''\")\n",
        ")\n",
        "top_genres = genres['genre'].value_counts().head(15)\n",
        "ax = top_genres.plot(kind='bar', title='Top Genres (Top 15)')\n",
        "plt.xlabel('Genre'); plt.ylabel('Count')\n",
        "plt.tight_layout()\n",
        "plt.savefig('../images/top_genres.png', dpi=150)\n",
        "top_genres"
      ]
    },
    {
      "cell_type": "code",
      "execution_count": null,
      "metadata": {},
      "outputs": [],
      "source": [
        "# 3) Content over time by release year\n",
        "by_year = df.groupby('release_year').size().sort_index()\n",
        "ax = by_year.plot(kind='line', title='Titles by Release Year')\n",
        "plt.xlabel('Year'); plt.ylabel('Number of Titles')\n",
        "plt.tight_layout()\n",
        "plt.savefig('../images/titles_by_release_year.png', dpi=150)\n",
        "by_year.tail(10)"
      ]
    },
    {
      "cell_type": "code",
      "execution_count": null,
      "metadata": {},
      "outputs": [],
      "source": [
        "# 4) Top producing countries (using the `country` column)\n",
        "countries = (\n",
        "    df.assign(country=df['country'].fillna(''))\n",
        "      .assign(cc=df['country'].str.split(', '))\n",
        "      .explode('cc')\n",
        "      .query(\"cc != ''\")\n",
        ")\n",
        "top_countries = countries['cc'].value_counts().head(15)\n",
        "ax = top_countries.plot(kind='bar', title='Top Producing Countries (Top 15)')\n",
        "plt.xlabel('Country'); plt.ylabel('Count')\n",
        "plt.tight_layout()\n",
        "plt.savefig('../images/top_countries.png', dpi=150)\n",
        "top_countries"
      ]
    },
    {
      "cell_type": "markdown",
      "metadata": {},
      "source": [
        "## Summary (fill in your insights)\n",
        "- Add 3–5 bullets summarizing what you found.\n",
        "- Example: \"Movies are more common than TV Shows.\""
      ]
    }
  ],
  "metadata": {
    "kernelspec": {
      "display_name": "Python 3",
      "language": "python",
      "name": "python3"
    },
    "language_info": {
      "name": "python",
      "version": ""
    }
  },
  "nbformat": 4,
  "nbformat_minor": 5
}